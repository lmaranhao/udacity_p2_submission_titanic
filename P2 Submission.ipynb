{
 "cells": [
  {
   "cell_type": "markdown",
   "metadata": {},
   "source": [
    "# P2 submission (Dataset analyzed: Titanic)\n",
    "The objective here is to analyze the Titanic dataset. A description of the fields in the dataset can be found here https://www.kaggle.com/c/titanic/data.\n",
    "\n",
    "### 1. Questions?\n",
    "What variables made passengers more or less likely to survive?<br>\n",
    "Which **Sex** had more chance to survive? Man or Female?<br>\n",
    "Did **Age** have some influence?<br>\n",
    "What about the passenger's **Class (Pclass)**?<br>\n",
    "Other questions may rise along the way."
   ]
  },
  {
   "cell_type": "markdown",
   "metadata": {},
   "source": [
    "### 2. Data Wrangling\n",
    "Here I will wrangle the dataset to be analyzed. This includes investigating the data, looking for problems and fixing data types.\n",
    "\n",
    "\n"
   ]
  },
  {
   "cell_type": "code",
   "execution_count": 1,
   "metadata": {
    "collapsed": false
   },
   "outputs": [
    {
     "name": "stdout",
     "output_type": "stream",
     "text": [
      "Populating the interactive namespace from numpy and matplotlib\n"
     ]
    }
   ],
   "source": [
    "#importing libs\n",
    "import matplotlib.pyplot as plt\n",
    "import numpy as np\n",
    "import pandas as pd\n",
    "import seaborn as sns\n",
    "\n",
    "#seaborn settings\n",
    "sns.set_style(\"whitegrid\")\n",
    "\n",
    "#loading dataset\n",
    "filename = 'titanic_data.csv'\n",
    "titanic_df = pd.read_csv(filename)\n",
    "\n",
    "%pylab inline"
   ]
  },
  {
   "cell_type": "code",
   "execution_count": 2,
   "metadata": {
    "collapsed": false
   },
   "outputs": [
    {
     "data": {
      "text/html": [
       "<div>\n",
       "<table border=\"1\" class=\"dataframe\">\n",
       "  <thead>\n",
       "    <tr style=\"text-align: right;\">\n",
       "      <th></th>\n",
       "      <th>PassengerId</th>\n",
       "      <th>Survived</th>\n",
       "      <th>Pclass</th>\n",
       "      <th>Name</th>\n",
       "      <th>Sex</th>\n",
       "      <th>Age</th>\n",
       "      <th>SibSp</th>\n",
       "      <th>Parch</th>\n",
       "      <th>Ticket</th>\n",
       "      <th>Fare</th>\n",
       "      <th>Cabin</th>\n",
       "      <th>Embarked</th>\n",
       "    </tr>\n",
       "  </thead>\n",
       "  <tbody>\n",
       "    <tr>\n",
       "      <th>0</th>\n",
       "      <td>1</td>\n",
       "      <td>0</td>\n",
       "      <td>3</td>\n",
       "      <td>Braund, Mr. Owen Harris</td>\n",
       "      <td>male</td>\n",
       "      <td>22.0</td>\n",
       "      <td>1</td>\n",
       "      <td>0</td>\n",
       "      <td>A/5 21171</td>\n",
       "      <td>7.2500</td>\n",
       "      <td>NaN</td>\n",
       "      <td>S</td>\n",
       "    </tr>\n",
       "    <tr>\n",
       "      <th>1</th>\n",
       "      <td>2</td>\n",
       "      <td>1</td>\n",
       "      <td>1</td>\n",
       "      <td>Cumings, Mrs. John Bradley (Florence Briggs Th...</td>\n",
       "      <td>female</td>\n",
       "      <td>38.0</td>\n",
       "      <td>1</td>\n",
       "      <td>0</td>\n",
       "      <td>PC 17599</td>\n",
       "      <td>71.2833</td>\n",
       "      <td>C85</td>\n",
       "      <td>C</td>\n",
       "    </tr>\n",
       "    <tr>\n",
       "      <th>2</th>\n",
       "      <td>3</td>\n",
       "      <td>1</td>\n",
       "      <td>3</td>\n",
       "      <td>Heikkinen, Miss. Laina</td>\n",
       "      <td>female</td>\n",
       "      <td>26.0</td>\n",
       "      <td>0</td>\n",
       "      <td>0</td>\n",
       "      <td>STON/O2. 3101282</td>\n",
       "      <td>7.9250</td>\n",
       "      <td>NaN</td>\n",
       "      <td>S</td>\n",
       "    </tr>\n",
       "    <tr>\n",
       "      <th>3</th>\n",
       "      <td>4</td>\n",
       "      <td>1</td>\n",
       "      <td>1</td>\n",
       "      <td>Futrelle, Mrs. Jacques Heath (Lily May Peel)</td>\n",
       "      <td>female</td>\n",
       "      <td>35.0</td>\n",
       "      <td>1</td>\n",
       "      <td>0</td>\n",
       "      <td>113803</td>\n",
       "      <td>53.1000</td>\n",
       "      <td>C123</td>\n",
       "      <td>S</td>\n",
       "    </tr>\n",
       "    <tr>\n",
       "      <th>4</th>\n",
       "      <td>5</td>\n",
       "      <td>0</td>\n",
       "      <td>3</td>\n",
       "      <td>Allen, Mr. William Henry</td>\n",
       "      <td>male</td>\n",
       "      <td>35.0</td>\n",
       "      <td>0</td>\n",
       "      <td>0</td>\n",
       "      <td>373450</td>\n",
       "      <td>8.0500</td>\n",
       "      <td>NaN</td>\n",
       "      <td>S</td>\n",
       "    </tr>\n",
       "  </tbody>\n",
       "</table>\n",
       "</div>"
      ],
      "text/plain": [
       "   PassengerId  Survived  Pclass  \\\n",
       "0            1         0       3   \n",
       "1            2         1       1   \n",
       "2            3         1       3   \n",
       "3            4         1       1   \n",
       "4            5         0       3   \n",
       "\n",
       "                                                Name     Sex   Age  SibSp  \\\n",
       "0                            Braund, Mr. Owen Harris    male  22.0      1   \n",
       "1  Cumings, Mrs. John Bradley (Florence Briggs Th...  female  38.0      1   \n",
       "2                             Heikkinen, Miss. Laina  female  26.0      0   \n",
       "3       Futrelle, Mrs. Jacques Heath (Lily May Peel)  female  35.0      1   \n",
       "4                           Allen, Mr. William Henry    male  35.0      0   \n",
       "\n",
       "   Parch            Ticket     Fare Cabin Embarked  \n",
       "0      0         A/5 21171   7.2500   NaN        S  \n",
       "1      0          PC 17599  71.2833   C85        C  \n",
       "2      0  STON/O2. 3101282   7.9250   NaN        S  \n",
       "3      0            113803  53.1000  C123        S  \n",
       "4      0            373450   8.0500   NaN        S  "
      ]
     },
     "execution_count": 2,
     "metadata": {},
     "output_type": "execute_result"
    }
   ],
   "source": [
    "#checking the dataframe (5 first rows)\n",
    "titanic_df.head()"
   ]
  },
  {
   "cell_type": "code",
   "execution_count": 3,
   "metadata": {
    "collapsed": false
   },
   "outputs": [
    {
     "name": "stdout",
     "output_type": "stream",
     "text": [
      "<class 'pandas.core.frame.DataFrame'>\n",
      "RangeIndex: 891 entries, 0 to 890\n",
      "Data columns (total 12 columns):\n",
      "PassengerId    891 non-null int64\n",
      "Survived       891 non-null int64\n",
      "Pclass         891 non-null int64\n",
      "Name           891 non-null object\n",
      "Sex            891 non-null object\n",
      "Age            714 non-null float64\n",
      "SibSp          891 non-null int64\n",
      "Parch          891 non-null int64\n",
      "Ticket         891 non-null object\n",
      "Fare           891 non-null float64\n",
      "Cabin          204 non-null object\n",
      "Embarked       889 non-null object\n",
      "dtypes: float64(2), int64(5), object(5)\n",
      "memory usage: 83.6+ KB\n",
      "None\n"
     ]
    }
   ],
   "source": [
    "#checking some more information about the dataset\n",
    "print titanic_df.info()"
   ]
  },
  {
   "cell_type": "markdown",
   "metadata": {},
   "source": [
    "#### Wrangling in action\n",
    "Just by looking at the dataframe's head() and info() we have a lot of information and decide the next steps. We will be cleaning up our data by removing Cabin, Ticket and Embarked columns, merging SisSp and Parch into a new column named FamilyMembers and creating a new dataframe with only the rows that have data for Age\n",
    "\n"
   ]
  },
  {
   "cell_type": "code",
   "execution_count": 4,
   "metadata": {
    "collapsed": false
   },
   "outputs": [],
   "source": [
    "# merging SisSp and Parch into a new column named FamilyMembers\n",
    "titanic_df['FamilyMembers'] = titanic_df['SibSp'] + titanic_df['Parch']"
   ]
  },
  {
   "cell_type": "code",
   "execution_count": 5,
   "metadata": {
    "collapsed": false
   },
   "outputs": [],
   "source": [
    "# removing Cabin, Ticket and Embarked columns\n",
    "titanic_df.drop(['Embarked', 'Cabin', 'Ticket', 'SibSp', 'Parch'], axis=1, inplace=True)"
   ]
  },
  {
   "cell_type": "code",
   "execution_count": 6,
   "metadata": {
    "collapsed": false
   },
   "outputs": [],
   "source": [
    "# creating a new dataframe with only the rows that have data for Age\n",
    "titanic_df_with_only_filled_ages = titanic_df[~np.isnan(titanic_df['Age'])]"
   ]
  },
  {
   "cell_type": "markdown",
   "metadata": {},
   "source": [
    "### 3. Exploring\n",
    "The objective here is to analyze the data after the cleaning up trying to draw some relationships between some of the dependent variables with **Survived**. Histograms and other types of graphs will be used to illustrate these relationships."
   ]
  },
  {
   "cell_type": "markdown",
   "metadata": {},
   "source": [
    "#### 3.1. Pclass\n",
    "Let's check if Pclass correlates with Survived. Did the class influence in the chances of surviving?"
   ]
  },
  {
   "cell_type": "code",
   "execution_count": 7,
   "metadata": {
    "collapsed": false
   },
   "outputs": [
    {
     "name": "stdout",
     "output_type": "stream",
     "text": [
      "#### counts per pclass\n",
      "Pclass\n",
      "1    216\n",
      "2    184\n",
      "3    491\n",
      "Name: Survived, dtype: int64\n",
      "####\n",
      "#### survivals per pclass\n",
      "Pclass\n",
      "1    136\n",
      "2     87\n",
      "3    119\n",
      "Name: Survived, dtype: int64\n",
      "####\n",
      "#### proportion of survivals per pclass\n",
      "Pclass\n",
      "1    0.629630\n",
      "2    0.472826\n",
      "3    0.242363\n",
      "Name: Survived, dtype: float64\n",
      "####\n"
     ]
    }
   ],
   "source": [
    "print '#### counts per pclass'\n",
    "print titanic_df.groupby('Pclass')['Survived'].count()\n",
    "print '####'\n",
    "print '#### survivals per pclass'\n",
    "print titanic_df.groupby('Pclass')['Survived'].sum()\n",
    "print '####'\n",
    "print '#### proportion of survivals per pclass'\n",
    "print titanic_df.groupby('Pclass')['Survived'].sum() / titanic_df.groupby('Pclass')['Survived'].count()\n",
    "print '####'"
   ]
  },
  {
   "cell_type": "code",
   "execution_count": 8,
   "metadata": {
    "collapsed": false
   },
   "outputs": [
    {
     "data": {
      "text/plain": [
       "<matplotlib.text.Text at 0x1174d2e90>"
      ]
     },
     "execution_count": 8,
     "metadata": {},
     "output_type": "execute_result"
    },
    {
     "data": {
      "image/png": "[encoded data removed]",
      "text/plain": [
       "<matplotlib.figure.Figure at 0x109ec62d0>"
      ]
     },
     "metadata": {},
     "output_type": "display_data"
    }
   ],
   "source": [
    "pclass_survived = sns.countplot(x=\"Pclass\", hue=\"Survived\", data=titanic_df, palette=\"Greens_d\");\n",
    "pclass_survived.set_title('Counts by Pclass and Survived')"
   ]
  },
  {
   "cell_type": "markdown",
   "metadata": {},
   "source": [
    "**Pclass Conclusions:** The numbers in the \"proportion of survivals per pclass\" table and the \"Counts by Pclass and Survived\" graph above clearly shows that passengers from the 1st class had a better chance of surviving that ones in lower classes."
   ]
  },
  {
   "cell_type": "markdown",
   "metadata": {},
   "source": [
    "#### 3.2 Sex \n",
    "Did women had a better chance of surviving than men?"
   ]
  },
  {
   "cell_type": "code",
   "execution_count": 9,
   "metadata": {
    "collapsed": false
   },
   "outputs": [
    {
     "name": "stdout",
     "output_type": "stream",
     "text": [
      "#### counts per pclass\n",
      "Sex\n",
      "female    314\n",
      "male      577\n",
      "Name: Survived, dtype: int64\n",
      "####\n",
      "#### survivals per pclass\n",
      "Sex\n",
      "female    233\n",
      "male      109\n",
      "Name: Survived, dtype: int64\n",
      "####\n",
      "#### proportion of survivals per sex\n",
      "Sex\n",
      "female    0.742038\n",
      "male      0.188908\n",
      "Name: Survived, dtype: float64\n",
      "####\n"
     ]
    }
   ],
   "source": [
    "print '#### counts per pclass'\n",
    "print titanic_df.groupby('Sex')['Survived'].count()\n",
    "print '####'\n",
    "print '#### survivals per pclass'\n",
    "print titanic_df.groupby('Sex')['Survived'].sum()\n",
    "print '####'\n",
    "print '#### proportion of survivals per sex'\n",
    "print titanic_df.groupby('Sex')['Survived'].sum() / titanic_df.groupby('Sex')['Survived'].count()\n",
    "print '####'"
   ]
  },
  {
   "cell_type": "code",
   "execution_count": 10,
   "metadata": {
    "collapsed": false
   },
   "outputs": [
    {
     "data": {
      "text/plain": [
       "<matplotlib.text.Text at 0x119cc2c50>"
      ]
     },
     "execution_count": 10,
     "metadata": {},
     "output_type": "execute_result"
    },
    {
     "data": {
      "image/png": "[encoded data removed]",
      "text/plain": [
       "<matplotlib.figure.Figure at 0x11989d7d0>"
      ]
     },
     "metadata": {},
     "output_type": "display_data"
    }
   ],
   "source": [
    "sex_survived = sns.countplot(x=\"Sex\", hue=\"Survived\", data=titanic_df, palette=\"Blues\");\n",
    "sex_survived.set_title('Counts by Sex and Survived')"
   ]
  },
  {
   "cell_type": "markdown",
   "metadata": {},
   "source": [
    "**Sex Conclusions:** The numbers in the \"proportion of survivals per sex\" table and the \"Counts by Pclass and Sex\" graph above clearly shows that female passengers had a better chance of surviving male passengers."
   ]
  },
  {
   "cell_type": "markdown",
   "metadata": {},
   "source": [
    "#### 3.3 Age\n",
    "Did Age influence in the passengers chance of survival?"
   ]
  },
  {
   "cell_type": "code",
   "execution_count": 11,
   "metadata": {
    "collapsed": false
   },
   "outputs": [
    {
     "name": "stdout",
     "output_type": "stream",
     "text": [
      "#### age means\n",
      "Survived       \n",
      "0         count    424.000000\n",
      "          mean      30.626179\n",
      "          std       14.172110\n",
      "          min        1.000000\n",
      "          25%       21.000000\n",
      "          50%       28.000000\n",
      "          75%       39.000000\n",
      "          max       74.000000\n",
      "1         count    290.000000\n",
      "          mean      28.343690\n",
      "          std       14.950952\n",
      "          min        0.420000\n",
      "          25%       19.000000\n",
      "          50%       28.000000\n",
      "          75%       36.000000\n",
      "          max       80.000000\n",
      "Name: Age, dtype: float64\n",
      "####\n"
     ]
    }
   ],
   "source": [
    "print '#### age means'\n",
    "print titanic_df_with_only_filled_ages.groupby('Survived')['Age'].describe()\n",
    "print '####'"
   ]
  },
  {
   "cell_type": "markdown",
   "metadata": {},
   "source": [
    "We can not conclude anything from those statistics because they are too close. Let's compare the survived vs non survived Age histograms"
   ]
  },
  {
   "cell_type": "code",
   "execution_count": 12,
   "metadata": {
    "collapsed": false
   },
   "outputs": [
    {
     "data": {
      "image/png": "[encoded data removed]",
      "text/plain": [
       "<matplotlib.figure.Figure at 0x119c8fb50>"
      ]
     },
     "metadata": {},
     "output_type": "display_data"
    }
   ],
   "source": [
    "survived_ages = titanic_df_with_only_filled_ages[titanic_df_with_only_filled_ages['Survived'] == 1]['Age']\n",
    "non_survived_ages = titanic_df_with_only_filled_ages[titanic_df_with_only_filled_ages['Survived'] == 0]['Age']\n",
    "plt.hist([survived_ages, non_survived_ages], bins=8, label=['Survived','Non Survived'])\n",
    "plt.title('Ages Histograms - Survived and Non Survived (8bins)')\n",
    "plt.xlabel('Age')\n",
    "plt.ylabel('Count')\n",
    "plt.legend(prop={'size': 12})\n",
    "plt.show()"
   ]
  },
  {
   "cell_type": "code",
   "execution_count": 13,
   "metadata": {
    "collapsed": false
   },
   "outputs": [
    {
     "data": {
      "image/png": "[encoded data removed]",
      "text/plain": [
       "<matplotlib.figure.Figure at 0x119ca3f50>"
      ]
     },
     "metadata": {},
     "output_type": "display_data"
    }
   ],
   "source": [
    "# Changing bins size to closer look at the extreme values (<10 and >60)\n",
    "plt.hist([survived_ages, non_survived_ages], bins=16)\n",
    "plt.title('Ages Histograms - Survived and Non Survived (16 bins)')\n",
    "plt.xlabel('Age')\n",
    "plt.ylabel('Count')\n",
    "plt.show()"
   ]
  },
  {
   "cell_type": "markdown",
   "metadata": {},
   "source": [
    "**Age conclusions:** Looking at the histograms above I note that Age did not affect passengers change of survival in general but passengers younger than 10 years old had a better chance of surviving while the passengers older than 70 had a worse chance of surviving."
   ]
  },
  {
   "cell_type": "markdown",
   "metadata": {},
   "source": [
    "#### 3.4. Analyzing Pclass and Age together"
   ]
  },
  {
   "cell_type": "code",
   "execution_count": 14,
   "metadata": {
    "collapsed": false
   },
   "outputs": [
    {
     "data": {
      "text/html": [
       "<div>\n",
       "<table border=\"1\" class=\"dataframe\">\n",
       "  <thead>\n",
       "    <tr style=\"text-align: right;\">\n",
       "      <th></th>\n",
       "      <th></th>\n",
       "      <th></th>\n",
       "      <th>PassengerId</th>\n",
       "      <th>Name</th>\n",
       "      <th>Age</th>\n",
       "      <th>Fare</th>\n",
       "      <th>FamilyMembers</th>\n",
       "    </tr>\n",
       "    <tr>\n",
       "      <th>Pclass</th>\n",
       "      <th>Sex</th>\n",
       "      <th>Survived</th>\n",
       "      <th></th>\n",
       "      <th></th>\n",
       "      <th></th>\n",
       "      <th></th>\n",
       "      <th></th>\n",
       "    </tr>\n",
       "  </thead>\n",
       "  <tbody>\n",
       "    <tr>\n",
       "      <th rowspan=\"4\" valign=\"top\">1</th>\n",
       "      <th rowspan=\"2\" valign=\"top\">female</th>\n",
       "      <th>0</th>\n",
       "      <td>3</td>\n",
       "      <td>3</td>\n",
       "      <td>3</td>\n",
       "      <td>3</td>\n",
       "      <td>3</td>\n",
       "    </tr>\n",
       "    <tr>\n",
       "      <th>1</th>\n",
       "      <td>91</td>\n",
       "      <td>91</td>\n",
       "      <td>82</td>\n",
       "      <td>91</td>\n",
       "      <td>91</td>\n",
       "    </tr>\n",
       "    <tr>\n",
       "      <th rowspan=\"2\" valign=\"top\">male</th>\n",
       "      <th>0</th>\n",
       "      <td>77</td>\n",
       "      <td>77</td>\n",
       "      <td>61</td>\n",
       "      <td>77</td>\n",
       "      <td>77</td>\n",
       "    </tr>\n",
       "    <tr>\n",
       "      <th>1</th>\n",
       "      <td>45</td>\n",
       "      <td>45</td>\n",
       "      <td>40</td>\n",
       "      <td>45</td>\n",
       "      <td>45</td>\n",
       "    </tr>\n",
       "    <tr>\n",
       "      <th rowspan=\"4\" valign=\"top\">2</th>\n",
       "      <th rowspan=\"2\" valign=\"top\">female</th>\n",
       "      <th>0</th>\n",
       "      <td>6</td>\n",
       "      <td>6</td>\n",
       "      <td>6</td>\n",
       "      <td>6</td>\n",
       "      <td>6</td>\n",
       "    </tr>\n",
       "    <tr>\n",
       "      <th>1</th>\n",
       "      <td>70</td>\n",
       "      <td>70</td>\n",
       "      <td>68</td>\n",
       "      <td>70</td>\n",
       "      <td>70</td>\n",
       "    </tr>\n",
       "    <tr>\n",
       "      <th rowspan=\"2\" valign=\"top\">male</th>\n",
       "      <th>0</th>\n",
       "      <td>91</td>\n",
       "      <td>91</td>\n",
       "      <td>84</td>\n",
       "      <td>91</td>\n",
       "      <td>91</td>\n",
       "    </tr>\n",
       "    <tr>\n",
       "      <th>1</th>\n",
       "      <td>17</td>\n",
       "      <td>17</td>\n",
       "      <td>15</td>\n",
       "      <td>17</td>\n",
       "      <td>17</td>\n",
       "    </tr>\n",
       "    <tr>\n",
       "      <th rowspan=\"4\" valign=\"top\">3</th>\n",
       "      <th rowspan=\"2\" valign=\"top\">female</th>\n",
       "      <th>0</th>\n",
       "      <td>72</td>\n",
       "      <td>72</td>\n",
       "      <td>55</td>\n",
       "      <td>72</td>\n",
       "      <td>72</td>\n",
       "    </tr>\n",
       "    <tr>\n",
       "      <th>1</th>\n",
       "      <td>72</td>\n",
       "      <td>72</td>\n",
       "      <td>47</td>\n",
       "      <td>72</td>\n",
       "      <td>72</td>\n",
       "    </tr>\n",
       "    <tr>\n",
       "      <th rowspan=\"2\" valign=\"top\">male</th>\n",
       "      <th>0</th>\n",
       "      <td>300</td>\n",
       "      <td>300</td>\n",
       "      <td>215</td>\n",
       "      <td>300</td>\n",
       "      <td>300</td>\n",
       "    </tr>\n",
       "    <tr>\n",
       "      <th>1</th>\n",
       "      <td>47</td>\n",
       "      <td>47</td>\n",
       "      <td>38</td>\n",
       "      <td>47</td>\n",
       "      <td>47</td>\n",
       "    </tr>\n",
       "  </tbody>\n",
       "</table>\n",
       "</div>"
      ],
      "text/plain": [
       "                        PassengerId  Name  Age  Fare  FamilyMembers\n",
       "Pclass Sex    Survived                                             \n",
       "1      female 0                   3     3    3     3              3\n",
       "              1                  91    91   82    91             91\n",
       "       male   0                  77    77   61    77             77\n",
       "              1                  45    45   40    45             45\n",
       "2      female 0                   6     6    6     6              6\n",
       "              1                  70    70   68    70             70\n",
       "       male   0                  91    91   84    91             91\n",
       "              1                  17    17   15    17             17\n",
       "3      female 0                  72    72   55    72             72\n",
       "              1                  72    72   47    72             72\n",
       "       male   0                 300   300  215   300            300\n",
       "              1                  47    47   38    47             47"
      ]
     },
     "execution_count": 14,
     "metadata": {},
     "output_type": "execute_result"
    }
   ],
   "source": [
    "titanic_df.groupby(['Pclass', 'Sex', 'Survived']).count()"
   ]
  },
  {
   "cell_type": "markdown",
   "metadata": {},
   "source": [
    "The code above shows that for Pclass 1 91 survived and only 3 died. The same pattern didn't happen with the men where for Pclass 1 45 survived and 77 died. We can see this better in the graph below."
   ]
  },
  {
   "cell_type": "code",
   "execution_count": 15,
   "metadata": {
    "collapsed": false
   },
   "outputs": [
    {
     "data": {
      "text/plain": [
       "<matplotlib.text.Text at 0x11a32b350>"
      ]
     },
     "execution_count": 15,
     "metadata": {},
     "output_type": "execute_result"
    },
    {
     "data": {
      "image/png": "[encoded data removed]",
      "text/plain": [
       "<matplotlib.figure.Figure at 0x119cae290>"
      ]
     },
     "metadata": {},
     "output_type": "display_data"
    }
   ],
   "source": [
    "violinplot = sns.violinplot(y=\"Pclass\", x=\"Sex\", hue=\"Survived\", data=titanic_df,\n",
    "               split=True, inner=\"stick\", palette=\"Set3\");\n",
    "violinplot.set_title('Sex x Pclass x Survived')"
   ]
  },
  {
   "cell_type": "markdown",
   "metadata": {},
   "source": [
    "**Pclass and Age conclusions:** When analyzing the graph above where we have Pclass and Sex together we notice some interesting facts. For example a huge proportion of the women in 1st and 2nd class (Pclass=1 and Pclass=2) survived while for the men the proportions are way lower. On the 3rd class (Pclass=3) we can see that the men had a better chance of surviving than the women.  "
   ]
  },
  {
   "cell_type": "markdown",
   "metadata": {},
   "source": [
    "#### 3.5. Analyzing Age and Sex together"
   ]
  },
  {
   "cell_type": "code",
   "execution_count": 16,
   "metadata": {
    "collapsed": false
   },
   "outputs": [
    {
     "data": {
      "text/plain": [
       "Pclass  Sex     Survived\n",
       "1       female  0           25.666667\n",
       "                1           34.939024\n",
       "        male    0           44.581967\n",
       "                1           36.248000\n",
       "2       female  0           36.000000\n",
       "                1           28.080882\n",
       "        male    0           33.369048\n",
       "                1           16.022000\n",
       "3       female  0           23.818182\n",
       "                1           19.329787\n",
       "        male    0           27.255814\n",
       "                1           22.274211\n",
       "Name: Age, dtype: float64"
      ]
     },
     "execution_count": 16,
     "metadata": {},
     "output_type": "execute_result"
    }
   ],
   "source": [
    "titanic_df_with_only_filled_ages.groupby(['Pclass', 'Sex', 'Survived']).mean()['Age']"
   ]
  },
  {
   "cell_type": "code",
   "execution_count": 17,
   "metadata": {
    "collapsed": false
   },
   "outputs": [
    {
     "data": {
      "text/plain": [
       "<matplotlib.text.Text at 0x11bce6590>"
      ]
     },
     "execution_count": 17,
     "metadata": {},
     "output_type": "execute_result"
    },
    {
     "data": {
      "image/png": "[encoded data removed]",
      "text/plain": [
       "<matplotlib.figure.Figure at 0x11bc40190>"
      ]
     },
     "metadata": {},
     "output_type": "display_data"
    }
   ],
   "source": [
    "sex_age_boxplot = sns.boxplot(data=titanic_df_with_only_filled_ages, x=\"Sex\", y=\"Age\", hue=\"Survived\")\n",
    "sex_age_boxplot.set_title(\"Age x Sex x Survived - Boxplot\")"
   ]
  },
  {
   "cell_type": "markdown",
   "metadata": {},
   "source": [
    "The interesting thing to notice when analyzing this plot is that for the men the mean of Ages for the passengers who survived is slightly lower that for the non survivals while for the women the exctly oposite happens.<br>\n",
    "Let's see one more graph to see if the Age had influenced men and women differently. "
   ]
  },
  {
   "cell_type": "code",
   "execution_count": 18,
   "metadata": {
    "collapsed": false,
    "scrolled": true
   },
   "outputs": [
    {
     "data": {
      "text/plain": [
       "<matplotlib.text.Text at 0x11be8f0d0>"
      ]
     },
     "execution_count": 18,
     "metadata": {},
     "output_type": "execute_result"
    },
    {
     "data": {
      "image/png": "[encoded data removed]",
      "text/plain": [
       "<matplotlib.figure.Figure at 0x11a3ac650>"
      ]
     },
     "metadata": {},
     "output_type": "display_data"
    }
   ],
   "source": [
    "sex_age_violin = sns.violinplot(x=\"Sex\", y=\"Age\", hue=\"Survived\", data=titanic_df_with_only_filled_ages,\n",
    "               split=True, inner=\"stick\", palette=\"Set3\");\n",
    "sex_age_violin.set_title(\"Age x Sex x Survived - Violin\")"
   ]
  },
  {
   "cell_type": "markdown",
   "metadata": {},
   "source": [
    "This is an interesting view. <br>\n",
    "**Age and Sex conclusions:** The female side shows that the chance of surviving is almost the same for all ages while for the men we see that the chance of surviving was higher for lower ages - roughly < 10 years old."
   ]
  },
  {
   "cell_type": "markdown",
   "metadata": {},
   "source": [
    "#### 3.6 Family Size\n",
    "Did the family size had effect on the surviving changes of the passengers?"
   ]
  },
  {
   "cell_type": "code",
   "execution_count": 32,
   "metadata": {
    "collapsed": false
   },
   "outputs": [
    {
     "data": {
      "text/plain": [
       "Survived\n",
       "0    0.883424\n",
       "1    0.938596\n",
       "Name: FamilyMembers, dtype: float64"
      ]
     },
     "execution_count": 32,
     "metadata": {},
     "output_type": "execute_result"
    }
   ],
   "source": [
    "titanic_df.groupby(['Survived']).mean()['FamilyMembers']"
   ]
  },
  {
   "cell_type": "markdown",
   "metadata": {},
   "source": [
    "Only by anaylising the means above we can't get to any conclusion. The family sizes of the ones who survived and roughly the same of the ones who died. I'm not sure this tells us the whole story about Family Size. Let's dig further."
   ]
  },
  {
   "cell_type": "code",
   "execution_count": 39,
   "metadata": {
    "collapsed": false
   },
   "outputs": [
    {
     "data": {
      "text/plain": [
       "Survived  FamilyMembers\n",
       "0         0                374\n",
       "          1                 72\n",
       "          2                 43\n",
       "          3                  8\n",
       "          4                 12\n",
       "          5                 19\n",
       "          6                  8\n",
       "          7                  6\n",
       "          10                 7\n",
       "1         0                163\n",
       "          1                 89\n",
       "          2                 59\n",
       "          3                 21\n",
       "          4                  3\n",
       "          5                  3\n",
       "          6                  4\n",
       "Name: PassengerId, dtype: int64"
      ]
     },
     "execution_count": 39,
     "metadata": {},
     "output_type": "execute_result"
    }
   ],
   "source": [
    "titanic_df.groupby(['Survived', 'FamilyMembers']).count()['PassengerId']"
   ]
  },
  {
   "cell_type": "markdown",
   "metadata": {},
   "source": [
    "**Family Size conclusions: **In the table above we see that passengers with families size of 0 (163/374) was not likely to survive. The same applies for passengers with family sizes bigger then 4. For sizes 2, 3 and 4 we see a different pattern where the number of survivals are bigger than the number of deaths.<br>\n",
    "The histogram below makes is pretty clear to see this pattern I just explained."
   ]
  },
  {
   "cell_type": "code",
   "execution_count": 37,
   "metadata": {
    "collapsed": false
   },
   "outputs": [
    {
     "data": {
      "image/png": "[encoded data removed]",
      "text/plain": [
       "<matplotlib.figure.Figure at 0x11f135b10>"
      ]
     },
     "metadata": {},
     "output_type": "display_data"
    }
   ],
   "source": [
    "survived_families = titanic_df[titanic_df['Survived'] == 1]['FamilyMembers']\n",
    "non_survived_families = titanic_df[titanic_df['Survived'] == 0]['FamilyMembers']\n",
    "plt.hist([survived_families, non_survived_families], label=['Survived','Non Survived'])\n",
    "plt.title('Family Members Histograms - Survived and Non Survived (8bins)')\n",
    "plt.xlabel('Family Members')\n",
    "plt.ylabel('Count')\n",
    "plt.legend(prop={'size': 12})\n",
    "plt.show()"
   ]
  },
  {
   "cell_type": "markdown",
   "metadata": {},
   "source": [
    "### 4. Conclusions\n",
    "I've drawn conclusions after each topic of the Exploring section above but I'll use this section to state some limitations of the analysis.\n",
    "\n",
    "#### 4.1. Limitations of the data\n",
    "One limitations that prevents me from applying the Central Limit Theorem (CLT) and therefore do any statistical inference is that we are not sure that if this sample represents the whole population or in other words that this sample has been randomly assigned.<br>\n",
    "If we knew that the sample met the CLT conditions we could use Chi-Squared tests and T-tests to statistically test each of the variables.\n",
    "\n",
    "#### 4.2. Limitations with the Age variable\n",
    "After noting that the Age column had a lot of NANs I decided to analyze it by removing the NANs from the sample. <br>\n",
    "Since we are not applying the CLT we didn't have to worry about the randomness of this new sample after removing the NANs and thus this clean up didn't affect the analysis.\n",
    "\n",
    "#### 4.3. Correlation does not imply causation\n",
    "All the conclusions drawn above are based solely on observation of the data and doesn't imply causation. Even if we had run statistics tests against the sample correlation does not mean causation, in other words, if one variable correlates with the other it doesn't mean that changing the value of one will **cause** the change in the other.\n",
    "\n",
    "#### 4.4. What data could help us in this analysis\n",
    "I think that if we had access to the data for the whole population (for all passengers) that would allow us to run statistical tests and come out with much more precise conclusions about the correlations between the variables.\n",
    "\n",
    "---\n",
    "\n",
    "### 5. Findings\n",
    "All findings are depicted in section 3. Exploring section and its subitems above. Below you have a summary of the findings.\n",
    "\n",
    "#### 5.1. Pclass\n",
    "The chance or surviving for passengers with Pclass = 1 is better than for passengers with Pclass = 2 which is better than for passengers with Pclass = 3\n",
    "\n",
    "P1 chances > P2 chances > P3 chances\n",
    "\n",
    "#### 5.2 Sex\n",
    "Females were more likely to survive than males.\n",
    "\n",
    "#### 5.3. Age\n",
    "Passengers roughly younger than 10 years old were more likely to survive than other passengers\n",
    "\n",
    "#### 5.4. Analyzing Pclass and Age together\n",
    "Women in Pclass 1 and 2 were more likely to survive than men.\n",
    "Men in Pclass 3 were more likely to survive than women.\n",
    "\n",
    "#### 5.5. Analyzing Age and Sex together\n",
    "Age did not affect the survival chances for Women.\n",
    "Men youger than 10 years old were more likely to survive.\n",
    "\n",
    "#### 5.6 Family Size\n",
    "Passengers with family members equals to 2, 3 and 4 were more likely to survive while passengers with less then 2 and more then 4 family memebers were less likely to survive"
   ]
  },
  {
   "cell_type": "markdown",
   "metadata": {},
   "source": [
    "#### Resources\n",
    "http://www.stat.ufl.edu/~athienit/Tables/Ttable.pdf<br>\n",
    "http://stackoverflow.com/questions/19798153/difference-between-map-applymap-and-apply-methods-in-pandas<br>\n",
    "http://stackoverflow.com/questions/117250/how-do-i-get-a-decimal-value-when-using-the-division-operator-in-python<br>\n",
    "http://meta.math.stackexchange.com/questions/5020/mathjax-basic-tutorial-and-quick-reference<br>\n",
    "http://www-users.cs.umn.edu/~ludford/stat_overview.htm<br>\n",
    "https://en.wikibooks.org/wiki/Python_Programming/Basic_Math#Mathematical_Operators<br>\n",
    "http://support.minitab.com/en-us/minitab/17/topic-library/basic-statistics-and-graphs/hypothesis-tests/tests-of-means/types-of-t-tests/<br>\n",
    "http://stackoverflow.com/questions/13404468/t-test-in-pandas-python<br>\n",
    "http://www.imathas.com/stattools/norm.html<br>\n",
    "http://stackoverflow.com/questions/10628262/inserting-image-into-ipython-notebook-markdown<br>\n",
    "http://pandas.pydata.org/pandas-docs/stable/visualization.html<br>\n",
    "https://www.youtube.com/watch?v=rulIUAN0U3w<br>\n",
    "http://docs.scipy.org/doc/scipy-0.15.1/reference/generated/scipy.stats.chi2_contingency.html<br>\n",
    "https://www.youtube.com/watch?v=E8OQAdQlljE<br>\n",
    "https://github.com/alfredessa/pdacookbook/blob/master/PythonPandasCookbook5.2.ipynb<br>\n",
    "https://stanford.edu/~mwaskom/software/seaborn/generated/seaborn.boxplot.html<br>\n",
    "http://docs.scipy.org/doc/scipy/reference/generated/scipy.stats.ttest_ind.html#scipy.stats.ttest_ind<br>\n",
    "https://www.youtube.com/watch?v=WXPBoFDqNVk<br>\n",
    "http://stackoverflow.com/questions/13413590/how-to-drop-rows-of-pandas-dataframe-whose-value-of-certain-column-is-nan<br>\n",
    "https://stanford.edu/~mwaskom/software/seaborn/tutorial/categorical.html#statistical-estimation-within-categories"
   ]
  }
 ],
 "metadata": {
  "anaconda-cloud": {},
  "kernelspec": {
   "display_name": "Python [Root]",
   "language": "python",
   "name": "Python [Root]"
  },
  "language_info": {
   "codemirror_mode": {
    "name": "ipython",
    "version": 2
   },
   "file_extension": ".py",
   "mimetype": "text/x-python",
   "name": "python",
   "nbconvert_exporter": "python",
   "pygments_lexer": "ipython2",
   "version": "2.7.12"
  }
 },
 "nbformat": 4,
 "nbformat_minor": 0
}
