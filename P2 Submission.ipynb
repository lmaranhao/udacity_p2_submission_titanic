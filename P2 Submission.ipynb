{
 "cells": [
  {
   "cell_type": "markdown",
   "metadata": {},
   "source": [
    "# P2 submission\n",
    "#### Dataset analyzed: Titanic"
   ]
  },
  {
   "cell_type": "markdown",
   "metadata": {},
   "source": [
    "# 1. Data wrangling and Exploration\n",
    "I'll start below with exploring to get a sense of the data, what variables we have, how the data is presented, etc."
   ]
  },
  {
   "cell_type": "code",
   "execution_count": 1,
   "metadata": {
    "collapsed": false
   },
   "outputs": [],
   "source": [
    "#importing libs\n",
    "import matplotlib.pyplot as plt\n",
    "import numpy as np\n",
    "import pandas as pd\n",
    "import seaborn as sns\n",
    "import scipy.stats as st\n",
    "\n",
    "#seaborn settings\n",
    "sns.set_style(\"whitegrid\")\n",
    "\n",
    "#loading dataset\n",
    "filename = '/Users/leo/Dropbox/udacity_nanodegree/titanic_data.csv'\n",
    "titanic_df = pd.read_csv(filename)"
   ]
  },
  {
   "cell_type": "code",
   "execution_count": 2,
   "metadata": {
    "collapsed": false
   },
   "outputs": [
    {
     "data": {
      "text/html": [
       "<div>\n",
       "<table border=\"1\" class=\"dataframe\">\n",
       "  <thead>\n",
       "    <tr style=\"text-align: right;\">\n",
       "      <th></th>\n",
       "      <th>PassengerId</th>\n",
       "      <th>Survived</th>\n",
       "      <th>Pclass</th>\n",
       "      <th>Name</th>\n",
       "      <th>Sex</th>\n",
       "      <th>Age</th>\n",
       "      <th>SibSp</th>\n",
       "      <th>Parch</th>\n",
       "      <th>Ticket</th>\n",
       "      <th>Fare</th>\n",
       "      <th>Cabin</th>\n",
       "      <th>Embarked</th>\n",
       "    </tr>\n",
       "  </thead>\n",
       "  <tbody>\n",
       "    <tr>\n",
       "      <th>0</th>\n",
       "      <td>1</td>\n",
       "      <td>0</td>\n",
       "      <td>3</td>\n",
       "      <td>Braund, Mr. Owen Harris</td>\n",
       "      <td>male</td>\n",
       "      <td>22.0</td>\n",
       "      <td>1</td>\n",
       "      <td>0</td>\n",
       "      <td>A/5 21171</td>\n",
       "      <td>7.2500</td>\n",
       "      <td>NaN</td>\n",
       "      <td>S</td>\n",
       "    </tr>\n",
       "    <tr>\n",
       "      <th>1</th>\n",
       "      <td>2</td>\n",
       "      <td>1</td>\n",
       "      <td>1</td>\n",
       "      <td>Cumings, Mrs. John Bradley (Florence Briggs Th...</td>\n",
       "      <td>female</td>\n",
       "      <td>38.0</td>\n",
       "      <td>1</td>\n",
       "      <td>0</td>\n",
       "      <td>PC 17599</td>\n",
       "      <td>71.2833</td>\n",
       "      <td>C85</td>\n",
       "      <td>C</td>\n",
       "    </tr>\n",
       "    <tr>\n",
       "      <th>2</th>\n",
       "      <td>3</td>\n",
       "      <td>1</td>\n",
       "      <td>3</td>\n",
       "      <td>Heikkinen, Miss. Laina</td>\n",
       "      <td>female</td>\n",
       "      <td>26.0</td>\n",
       "      <td>0</td>\n",
       "      <td>0</td>\n",
       "      <td>STON/O2. 3101282</td>\n",
       "      <td>7.9250</td>\n",
       "      <td>NaN</td>\n",
       "      <td>S</td>\n",
       "    </tr>\n",
       "    <tr>\n",
       "      <th>3</th>\n",
       "      <td>4</td>\n",
       "      <td>1</td>\n",
       "      <td>1</td>\n",
       "      <td>Futrelle, Mrs. Jacques Heath (Lily May Peel)</td>\n",
       "      <td>female</td>\n",
       "      <td>35.0</td>\n",
       "      <td>1</td>\n",
       "      <td>0</td>\n",
       "      <td>113803</td>\n",
       "      <td>53.1000</td>\n",
       "      <td>C123</td>\n",
       "      <td>S</td>\n",
       "    </tr>\n",
       "    <tr>\n",
       "      <th>4</th>\n",
       "      <td>5</td>\n",
       "      <td>0</td>\n",
       "      <td>3</td>\n",
       "      <td>Allen, Mr. William Henry</td>\n",
       "      <td>male</td>\n",
       "      <td>35.0</td>\n",
       "      <td>0</td>\n",
       "      <td>0</td>\n",
       "      <td>373450</td>\n",
       "      <td>8.0500</td>\n",
       "      <td>NaN</td>\n",
       "      <td>S</td>\n",
       "    </tr>\n",
       "  </tbody>\n",
       "</table>\n",
       "</div>"
      ],
      "text/plain": [
       "   PassengerId  Survived  Pclass  \\\n",
       "0            1         0       3   \n",
       "1            2         1       1   \n",
       "2            3         1       3   \n",
       "3            4         1       1   \n",
       "4            5         0       3   \n",
       "\n",
       "                                                Name     Sex   Age  SibSp  \\\n",
       "0                            Braund, Mr. Owen Harris    male  22.0      1   \n",
       "1  Cumings, Mrs. John Bradley (Florence Briggs Th...  female  38.0      1   \n",
       "2                             Heikkinen, Miss. Laina  female  26.0      0   \n",
       "3       Futrelle, Mrs. Jacques Heath (Lily May Peel)  female  35.0      1   \n",
       "4                           Allen, Mr. William Henry    male  35.0      0   \n",
       "\n",
       "   Parch            Ticket     Fare Cabin Embarked  \n",
       "0      0         A/5 21171   7.2500   NaN        S  \n",
       "1      0          PC 17599  71.2833   C85        C  \n",
       "2      0  STON/O2. 3101282   7.9250   NaN        S  \n",
       "3      0            113803  53.1000  C123        S  \n",
       "4      0            373450   8.0500   NaN        S  "
      ]
     },
     "execution_count": 2,
     "metadata": {},
     "output_type": "execute_result"
    }
   ],
   "source": [
    "#checking the dataframe\n",
    "titanic_df.head()"
   ]
  },
  {
   "cell_type": "code",
   "execution_count": 3,
   "metadata": {
    "collapsed": false
   },
   "outputs": [
    {
     "data": {
      "text/html": [
       "<div>\n",
       "<table border=\"1\" class=\"dataframe\">\n",
       "  <thead>\n",
       "    <tr style=\"text-align: right;\">\n",
       "      <th></th>\n",
       "      <th>PassengerId</th>\n",
       "      <th>Survived</th>\n",
       "      <th>Pclass</th>\n",
       "      <th>Age</th>\n",
       "      <th>SibSp</th>\n",
       "      <th>Parch</th>\n",
       "      <th>Fare</th>\n",
       "    </tr>\n",
       "  </thead>\n",
       "  <tbody>\n",
       "    <tr>\n",
       "      <th>PassengerId</th>\n",
       "      <td>1.000000</td>\n",
       "      <td>-0.005007</td>\n",
       "      <td>-0.035144</td>\n",
       "      <td>0.036847</td>\n",
       "      <td>-0.057527</td>\n",
       "      <td>-0.001652</td>\n",
       "      <td>0.012658</td>\n",
       "    </tr>\n",
       "    <tr>\n",
       "      <th>Survived</th>\n",
       "      <td>-0.005007</td>\n",
       "      <td>1.000000</td>\n",
       "      <td>-0.338481</td>\n",
       "      <td>-0.077221</td>\n",
       "      <td>-0.035322</td>\n",
       "      <td>0.081629</td>\n",
       "      <td>0.257307</td>\n",
       "    </tr>\n",
       "    <tr>\n",
       "      <th>Pclass</th>\n",
       "      <td>-0.035144</td>\n",
       "      <td>-0.338481</td>\n",
       "      <td>1.000000</td>\n",
       "      <td>-0.369226</td>\n",
       "      <td>0.083081</td>\n",
       "      <td>0.018443</td>\n",
       "      <td>-0.549500</td>\n",
       "    </tr>\n",
       "    <tr>\n",
       "      <th>Age</th>\n",
       "      <td>0.036847</td>\n",
       "      <td>-0.077221</td>\n",
       "      <td>-0.369226</td>\n",
       "      <td>1.000000</td>\n",
       "      <td>-0.308247</td>\n",
       "      <td>-0.189119</td>\n",
       "      <td>0.096067</td>\n",
       "    </tr>\n",
       "    <tr>\n",
       "      <th>SibSp</th>\n",
       "      <td>-0.057527</td>\n",
       "      <td>-0.035322</td>\n",
       "      <td>0.083081</td>\n",
       "      <td>-0.308247</td>\n",
       "      <td>1.000000</td>\n",
       "      <td>0.414838</td>\n",
       "      <td>0.159651</td>\n",
       "    </tr>\n",
       "    <tr>\n",
       "      <th>Parch</th>\n",
       "      <td>-0.001652</td>\n",
       "      <td>0.081629</td>\n",
       "      <td>0.018443</td>\n",
       "      <td>-0.189119</td>\n",
       "      <td>0.414838</td>\n",
       "      <td>1.000000</td>\n",
       "      <td>0.216225</td>\n",
       "    </tr>\n",
       "    <tr>\n",
       "      <th>Fare</th>\n",
       "      <td>0.012658</td>\n",
       "      <td>0.257307</td>\n",
       "      <td>-0.549500</td>\n",
       "      <td>0.096067</td>\n",
       "      <td>0.159651</td>\n",
       "      <td>0.216225</td>\n",
       "      <td>1.000000</td>\n",
       "    </tr>\n",
       "  </tbody>\n",
       "</table>\n",
       "</div>"
      ],
      "text/plain": [
       "             PassengerId  Survived    Pclass       Age     SibSp     Parch  \\\n",
       "PassengerId     1.000000 -0.005007 -0.035144  0.036847 -0.057527 -0.001652   \n",
       "Survived       -0.005007  1.000000 -0.338481 -0.077221 -0.035322  0.081629   \n",
       "Pclass         -0.035144 -0.338481  1.000000 -0.369226  0.083081  0.018443   \n",
       "Age             0.036847 -0.077221 -0.369226  1.000000 -0.308247 -0.189119   \n",
       "SibSp          -0.057527 -0.035322  0.083081 -0.308247  1.000000  0.414838   \n",
       "Parch          -0.001652  0.081629  0.018443 -0.189119  0.414838  1.000000   \n",
       "Fare            0.012658  0.257307 -0.549500  0.096067  0.159651  0.216225   \n",
       "\n",
       "                 Fare  \n",
       "PassengerId  0.012658  \n",
       "Survived     0.257307  \n",
       "Pclass      -0.549500  \n",
       "Age          0.096067  \n",
       "SibSp        0.159651  \n",
       "Parch        0.216225  \n",
       "Fare         1.000000  "
      ]
     },
     "execution_count": 3,
     "metadata": {},
     "output_type": "execute_result"
    }
   ],
   "source": [
    "#checking correlation between Survived and other variables\n",
    "titanic_df.corr()"
   ]
  },
  {
   "cell_type": "code",
   "execution_count": 4,
   "metadata": {
    "collapsed": false
   },
   "outputs": [
    {
     "name": "stdout",
     "output_type": "stream",
     "text": [
      "num_passengers: 891\n",
      "num_survivals: 342\n",
      "num_deaths: 549\n",
      "total_passengers: 891\n",
      "proportion_of_survivals: 0.383838383838\n"
     ]
    }
   ],
   "source": [
    "# playing arround with the data to make up my mind (checking counts and proportion of survivals)\n",
    "titanic_df_survivals = titanic_df[titanic_df['Survived'] == 1]\n",
    "titanic_df_deaths = titanic_df[titanic_df['Survived'] == 0]\n",
    "\n",
    "num_passengers = titanic_df['PassengerId'].count()\n",
    "num_survivals = titanic_df_survivals['PassengerId'].size\n",
    "num_deaths = titanic_df_deaths['PassengerId'].size\n",
    "\n",
    "proportion_of_survivals = num_survivals / float(num_passengers)\n",
    "\n",
    "print 'num_passengers: {}'.format(num_passengers)\n",
    "print 'num_survivals: {}'.format(num_survivals)\n",
    "print 'num_deaths: {}'.format(num_deaths)\n",
    "print 'total_passengers: {}'.format(num_survivals + num_deaths)\n",
    "print 'proportion_of_survivals: {}'.format(proportion_of_survivals)\n"
   ]
  },
  {
   "cell_type": "code",
   "execution_count": 5,
   "metadata": {
    "collapsed": false
   },
   "outputs": [
    {
     "name": "stdout",
     "output_type": "stream",
     "text": [
      "Populating the interactive namespace from numpy and matplotlib\n"
     ]
    },
    {
     "data": {
      "image/png": "[encoded data removed]",
      "text/plain": [
       "<matplotlib.figure.Figure at 0x103e26a10>"
      ]
     },
     "metadata": {},
     "output_type": "display_data"
    }
   ],
   "source": [
    "# graph to show the percentage of each Pclass in the whole sample\n",
    "%pylab inline\n",
    "\n",
    "sizes = titanic_df.groupby('Pclass').count()['PassengerId']\n",
    "# print sizes\n",
    "labels = ['1st Class', '2nd Class', '3rd Class']\n",
    "explode = (0.05, 0.05, 0.05)\n",
    "autopct = '%1.1f%%'\n",
    "plt.pie(sizes, labels=labels, explode=explode, shadow=True, autopct=autopct, startangle=90)\n",
    "plt.title('Pie 1: Passengers split by Pclass', loc='left', size='18', weight='1000')\n",
    "plt.axis('equal')\n",
    "plt.show()"
   ]
  },
  {
   "cell_type": "code",
   "execution_count": 6,
   "metadata": {
    "collapsed": false
   },
   "outputs": [
    {
     "name": "stdout",
     "output_type": "stream",
     "text": [
      "Populating the interactive namespace from numpy and matplotlib\n"
     ]
    },
    {
     "data": {
      "image/png": "[encoded data removed]",
      "text/plain": [
       "<matplotlib.figure.Figure at 0x116c19e50>"
      ]
     },
     "metadata": {},
     "output_type": "display_data"
    }
   ],
   "source": [
    "# graph to show the percentage of each Pclass from the survival subgroup\n",
    "%pylab inline\n",
    "sizes = titanic_df_survivals.groupby('Pclass').count()['PassengerId']\n",
    "# print sizes\n",
    "plt.pie(sizes, labels=labels, explode=explode, shadow=True, autopct=autopct, startangle=90)\n",
    "plt.title('Pie 2: Survivals split by Pclass', loc='left', size='18', weight='1000')\n",
    "plt.axis('equal')\n",
    "plt.show()"
   ]
  },
  {
   "cell_type": "markdown",
   "metadata": {},
   "source": [
    "### By comparing Pie 1 and Pie 2 above it is clear that people from the 1st class had a better chance of surviving that people form the 3rd class. We will calculate this statistics down below. "
   ]
  },
  {
   "cell_type": "code",
   "execution_count": 7,
   "metadata": {
    "collapsed": false
   },
   "outputs": [
    {
     "data": {
      "text/plain": [
       "<matplotlib.text.Text at 0x119d575d0>"
      ]
     },
     "execution_count": 7,
     "metadata": {},
     "output_type": "execute_result"
    },
    {
     "data": {
      "image/png": "[encoded data removed]",
      "text/plain": [
       "<matplotlib.figure.Figure at 0x116d27ed0>"
      ]
     },
     "metadata": {},
     "output_type": "display_data"
    }
   ],
   "source": [
    "# checking a histogram of the passengers' ages\n",
    "hist_all_passengers = titanic_df_deaths['Age'].hist(bins=9,figsize=(12, 8))\n",
    "hist_all_passengers.set_xlabel(\"Age\")\n",
    "hist_all_passengers.set_ylabel(\"Count\")\n",
    "hist_all_passengers.set_title(\"Histogram 1: Ages of Non Survivals\")"
   ]
  },
  {
   "cell_type": "code",
   "execution_count": 8,
   "metadata": {
    "collapsed": false
   },
   "outputs": [
    {
     "data": {
      "text/plain": [
       "<matplotlib.text.Text at 0x11a32b510>"
      ]
     },
     "execution_count": 8,
     "metadata": {},
     "output_type": "execute_result"
    },
    {
     "data": {
      "image/png": "[encoded data removed]",
      "text/plain": [
       "<matplotlib.figure.Figure at 0x119d44c50>"
      ]
     },
     "metadata": {},
     "output_type": "display_data"
    }
   ],
   "source": [
    "# checking a histogram of the survivals' ages\n",
    "hist_survivals = titanic_df_survivals['Age'].hist(bins=9,figsize=(12, 8))\n",
    "hist_survivals.set_xlabel(\"Age\")\n",
    "hist_survivals.set_ylabel(\"Count\")\n",
    "hist_survivals.set_title(\"Histogram 2: Ages of Survivals\")"
   ]
  },
  {
   "cell_type": "markdown",
   "metadata": {},
   "source": [
    "### The 2 histograms above doesn't give me much to see whether or not the Age had influenced the chance of survival of the passengers. I'll investigate this further with some box plots."
   ]
  },
  {
   "cell_type": "code",
   "execution_count": 9,
   "metadata": {
    "collapsed": false
   },
   "outputs": [
    {
     "data": {
      "text/plain": [
       "<matplotlib.text.Text at 0x11a69b110>"
      ]
     },
     "execution_count": 9,
     "metadata": {},
     "output_type": "execute_result"
    },
    {
     "data": {
      "image/png": "[encoded data removed]",
      "text/plain": [
       "<matplotlib.figure.Figure at 0x10a089290>"
      ]
     },
     "metadata": {},
     "output_type": "display_data"
    }
   ],
   "source": [
    "ax = sns.boxplot(data=titanic_df, x=\"Pclass\", y=\"Age\", hue=\"Survived\")\n",
    "ax.set_title(\"Boxplot 1: Age by Pclass and Survived\")"
   ]
  },
  {
   "cell_type": "markdown",
   "metadata": {},
   "source": [
    "### The boxplot above shows that the Survived subgroup is older in average than the non Survived subgroub and that it happens no matter in which Pclass the passenger is. I'll check if that this is statitically significant further down."
   ]
  },
  {
   "cell_type": "code",
   "execution_count": 10,
   "metadata": {
    "collapsed": false
   },
   "outputs": [
    {
     "name": "stdout",
     "output_type": "stream",
     "text": [
      "Populating the interactive namespace from numpy and matplotlib\n",
      "Sex\n",
      "female     81\n",
      "male      468\n",
      "Name: PassengerId, dtype: int64\n"
     ]
    },
    {
     "data": {
      "image/png": "[encoded data removed]",
      "text/plain": [
       "<matplotlib.figure.Figure at 0x116c19290>"
      ]
     },
     "metadata": {},
     "output_type": "display_data"
    }
   ],
   "source": [
    "# graph to show the percentage of each Sex in the whole sample\n",
    "%pylab inline\n",
    "\n",
    "sizes = titanic_df_deaths.groupby('Sex').count()['PassengerId']\n",
    "print sizes\n",
    "labels = ['Female', 'Male']\n",
    "explode = (0.05, 0.05)\n",
    "autopct = '%1.1f%%'\n",
    "plt.pie(sizes, labels=labels, explode=explode, shadow=True, autopct=autopct, startangle=90)\n",
    "plt.title('Graph 3: Non Survivals split by Sex', loc='left', size='18', weight='1000')\n",
    "plt.axis('equal')\n",
    "plt.show()"
   ]
  },
  {
   "cell_type": "code",
   "execution_count": 11,
   "metadata": {
    "collapsed": false
   },
   "outputs": [
    {
     "name": "stdout",
     "output_type": "stream",
     "text": [
      "Populating the interactive namespace from numpy and matplotlib\n",
      "Sex\n",
      "female    233\n",
      "male      109\n",
      "Name: PassengerId, dtype: int64\n"
     ]
    },
    {
     "data": {
      "image/png": "[encoded data removed]",
      "text/plain": [
       "<matplotlib.figure.Figure at 0x11b306350>"
      ]
     },
     "metadata": {},
     "output_type": "display_data"
    }
   ],
   "source": [
    "# graph to show the percentage of each Sex in the whole sample\n",
    "%pylab inline\n",
    "\n",
    "sizes = titanic_df_survivals.groupby('Sex').count()['PassengerId']\n",
    "print sizes\n",
    "labels = ['Female', 'Male']\n",
    "explode = (0.05, 0.05)\n",
    "autopct = '%1.1f%%'\n",
    "plt.pie(sizes, labels=labels, explode=explode, shadow=True, autopct=autopct, startangle=90)\n",
    "plt.title('Pie 4: Survivals split by Sex', loc='left', size='18', weight='1000')\n",
    "plt.axis('equal')\n",
    "plt.show()"
   ]
  },
  {
   "cell_type": "markdown",
   "metadata": {},
   "source": [
    "### By comparing Pie 1 and Pie 2 above it is clear that Females had a better chance of surviving than Males. I will calculate this statistics down below. "
   ]
  },
  {
   "cell_type": "markdown",
   "metadata": {},
   "source": [
    "# 2. Statistical Analysis Defined\n",
    "I will check if the variabled below influenced the chance of an individual to survive the Titanic accident?<br>\n",
    "Age<br>\n",
    "Fare<br>\n",
    "Pclass<br>\n",
    "Sex\n",
    "\n",
    "**Variables**<br>\n",
    "The dependent variable is **Survived** (whether or not a given passanger survived the accident). I'll statistically test each of the independent variables listed 2 above.\n",
    "\n",
    "## 2.1 Testing Age and Fare:\n",
    "Age and Fare are numerical or quantitative variables and so I'll compare the difference of means.<br>\n",
    "\n",
    "### 2.1.1 Method Used:\n",
    "Two-tailed Independent sample t-test<br>\n",
    "Alpha level of α = 0.05<br>\n",
    "\n",
    "**T-Critical:**<br>\n",
    "df values > 100 < 10000 for both variables<br>\n",
    "using t-critical for df=100 and p=0.025 (two-tail t-Test)<br>\n",
    "T-critical = (-1.984, 1.984)<br>\n",
    "\n",
    "### 2.1.2 Age:\n",
    "\n",
    "### 2.1.2.1 Hipothesis:\n",
    "H0: The Age of a passenger did not affect his/her chance of surviving (Pclass and Survived are independent). <br>\n",
    "H0: The Age of a passenger affects his/her chance of surviving (Pclass and Survived are not independent). \n",
    "\n",
    "### 2.2 Testing Pclass and Sex:\n",
    "Chi-Square Test<br>\n",
    "Alpha level of α = 0.05<br>\n",
    "\n",
    "### 2.2.1 Method Used:\n",
    "Two-tailed Independent sample t test<br>\n",
    "Alpha level of α = 0.05<br>\n",
    "\n",
    "**Chi-Squared Critical:**<br>\n",
    "df = 1 for both variables<br>\n",
    "Chi-Squared Critical = 3.841<br>\n",
    "\n",
    "### 2.2.2 Pclass and Fare Hypothesis:\n",
    "H0: The Pclass and Fare of a passenger did not affect his/her chance of surviving (Pclass and Survived are independent). <br>\n",
    "H0: The Pclass and Fare of a passenger affects his/her chance of surviving (Pclass and Survived are not independent). "
   ]
  },
  {
   "cell_type": "markdown",
   "metadata": {},
   "source": [
    "# 3. Calculating the Statistics\n",
    "## 3.1 Get the statistics for Age:"
   ]
  },
  {
   "cell_type": "code",
   "execution_count": 12,
   "metadata": {
    "collapsed": false
   },
   "outputs": [
    {
     "name": "stdout",
     "output_type": "stream",
     "text": [
      "Results of T-test for the means of two independent samples on Age to Survival.\n",
      "Does Age have a significant effect on Survival?\n",
      "T-Statistic = -2.06668694625\n",
      "Pvalue = 0.0391246540135\n",
      "T-Statistic (-2.06668694625) < T-Critical (-1.984) ==> Reject the Null Hipothesis\n"
     ]
    }
   ],
   "source": [
    "# Age has some NAN values. Using nan_policy='omit' because of that.\n",
    "age_statistics = st.ttest_ind(titanic_df_survivals.Age, titanic_df_deaths.Age, nan_policy='omit')\n",
    "print 'Results of T-test for the means of two independent samples on Age to Survival.'\n",
    "print 'Does Age have a significant effect on Survival?'\n",
    "print \"T-Statistic = \" + str(age_statistics.statistic)\n",
    "print \"Pvalue = \" + str(age_statistics.pvalue)\n",
    "print \"T-Statistic ({}) < T-Critical (-1.984) ==> Reject the Null Hipothesis\".format(age_statistics.statistic)"
   ]
  },
  {
   "cell_type": "markdown",
   "metadata": {},
   "source": [
    "## 3.2 Get the statistics for Fare:"
   ]
  },
  {
   "cell_type": "code",
   "execution_count": 13,
   "metadata": {
    "collapsed": false
   },
   "outputs": [
    {
     "name": "stdout",
     "output_type": "stream",
     "text": [
      "Results of T-test for the means of two independent samples on Fare to Survival.\n",
      "Does Age have a significant effect on Survival?\n",
      "T-Statistic = 7.93919166087\n",
      "Pvalue = 6.12018934192e-15\n",
      "T-Statistic (7.93919166087) > T-Critical (1.984) ==> Reject the Null Hipothesis\n"
     ]
    }
   ],
   "source": [
    "fare_statistics = st.ttest_ind(titanic_df_survivals.Fare, titanic_df_deaths.Fare)\n",
    "print 'Results of T-test for the means of two independent samples on Fare to Survival.'\n",
    "print 'Does Age have a significant effect on Survival?'\n",
    "print \"T-Statistic = \" + str(fare_statistics.statistic)\n",
    "print \"Pvalue = \" + str(fare_statistics.pvalue)\n",
    "print \"T-Statistic ({}) > T-Critical (1.984) ==> Reject the Null Hipothesis\".format(fare_statistics.statistic)"
   ]
  },
  {
   "cell_type": "markdown",
   "metadata": {},
   "source": [
    "## 3.3 Calculating the statistics for Pclass:"
   ]
  },
  {
   "cell_type": "code",
   "execution_count": 14,
   "metadata": {
    "collapsed": false
   },
   "outputs": [
    {
     "name": "stdout",
     "output_type": "stream",
     "text": [
      "Pclass      1   2    3\n",
      "Survived              \n",
      "0          80  97  372\n",
      "1         136  87  119 \n",
      "\n",
      "Results of Chi-Squared test on Pclass to Survival.\n",
      "Does Pclass have a significant effect on Survival?\n",
      "Chi-Squared Score = 102.888988757\n",
      "Pvalue = 4.5492517113e-23\n",
      "T-Statistic (102.888988757) > Chi-Squared Critical (3.841) ==> Reject the Null Hipothesis\n"
     ]
    }
   ],
   "source": [
    "# Chi-Squared Tests\n",
    "# Pclass to Survivability\n",
    "pivot = pd.pivot_table(data = titanic_df[['Survived', 'Pclass']], index = 'Survived', columns = ['Pclass'], aggfunc = len)\n",
    "pivot\n",
    "print pivot,\"\\n\"\n",
    "# Pclass      1   2    3\n",
    "# Survived              \n",
    "# 0          80  97  372\n",
    "# 1         136  87  119\n",
    "chi2, p_value, dof, expected = st.chi2_contingency(pivot)\n",
    "print \"Results of Chi-Squared test on Pclass to Survival.\"\n",
    "print \"Does Pclass have a significant effect on Survival?\"\n",
    "print \"Chi-Squared Score = \" + str(chi2)\n",
    "print \"Pvalue = \" + str(p_value)\n",
    "print \"T-Statistic ({}) > Chi-Squared Critical (3.841) ==> Reject the Null Hipothesis\".format(chi2)"
   ]
  },
  {
   "cell_type": "markdown",
   "metadata": {},
   "source": [
    "## 3.4 Calculating the statistics for Sex:"
   ]
  },
  {
   "cell_type": "code",
   "execution_count": 15,
   "metadata": {
    "collapsed": false
   },
   "outputs": [
    {
     "name": "stdout",
     "output_type": "stream",
     "text": [
      "Sex       female  male\n",
      "Survived              \n",
      "0             81   468\n",
      "1            233   109 \n",
      "\n",
      "Results of Chi-Squared test on Pclass to Survival.\n",
      "Does Pclass have a significant effect on Survival?\n",
      "Chi-Squared Score = 260.717020167\n",
      "Pvalue = 1.19735706278e-58\n",
      "T-Statistic (260.717020167) > Chi-Squared Critical (3.841) ==> Reject the Null Hipothesis\n"
     ]
    }
   ],
   "source": [
    "# Chi-Squared Tests\n",
    "# Pclass to Survivability\n",
    "pivot = pd.pivot_table(data = titanic_df[['Survived', 'Sex']], index = 'Survived', columns = ['Sex'], aggfunc = len)\n",
    "pivot\n",
    "print pivot,\"\\n\"\n",
    "# Pclass      1   2    3\n",
    "# Survived              \n",
    "# 0          80  97  372\n",
    "# 1         136  87  119\n",
    "chi2, p_value, dof, expected = st.chi2_contingency(pivot)\n",
    "print \"Results of Chi-Squared test on Pclass to Survival.\"\n",
    "print \"Does Pclass have a significant effect on Survival?\"\n",
    "print \"Chi-Squared Score = \" + str(chi2)\n",
    "print \"Pvalue = \" + str(p_value)\n",
    "print \"T-Statistic ({}) > Chi-Squared Critical (3.841) ==> Reject the Null Hipothesis\".format(chi2)"
   ]
  },
  {
   "cell_type": "markdown",
   "metadata": {},
   "source": [
    "# 4. Conclusions\n",
    "All the 4 independent variables we investigated are statistically significant and all of them have **correlation** witht he dependent variable, Survived. In other words, all of them impacted or changed the chances of survival of the passengers.\n",
    "\n",
    "## 4.1. Issues and limitations\n",
    "**4.1.1. The dataset used here contains demographics and passenger information from 891 of the 2224.<br>\n",
    "4.1.2. The dataset has some missing values - more specifically the Age column - that may have impacted the final results.<br>\n",
    "4.1.3. Other variables that may have been included in the dataset could give us more insights such as cabin location, cabin floor and passengers height and weight.**"
   ]
  },
  {
   "cell_type": "markdown",
   "metadata": {},
   "source": []
  },
  {
   "cell_type": "markdown",
   "metadata": {},
   "source": [
    "#### Resources\n",
    "http://www.stat.ufl.edu/~athienit/Tables/Ttable.pdf<br>\n",
    "http://stackoverflow.com/questions/19798153/difference-between-map-applymap-and-apply-methods-in-pandas<br>\n",
    "http://stackoverflow.com/questions/117250/how-do-i-get-a-decimal-value-when-using-the-division-operator-in-python<br>\n",
    "http://meta.math.stackexchange.com/questions/5020/mathjax-basic-tutorial-and-quick-reference<br>\n",
    "http://www-users.cs.umn.edu/~ludford/stat_overview.htm<br>\n",
    "https://en.wikibooks.org/wiki/Python_Programming/Basic_Math#Mathematical_Operators<br>\n",
    "http://support.minitab.com/en-us/minitab/17/topic-library/basic-statistics-and-graphs/hypothesis-tests/tests-of-means/types-of-t-tests/<br>\n",
    "http://stackoverflow.com/questions/13404468/t-test-in-pandas-python<br>\n",
    "http://www.imathas.com/stattools/norm.html<br>\n",
    "http://stackoverflow.com/questions/10628262/inserting-image-into-ipython-notebook-markdown<br>\n",
    "http://pandas.pydata.org/pandas-docs/stable/visualization.html<br>\n",
    "https://www.youtube.com/watch?v=rulIUAN0U3w<br>\n",
    "http://docs.scipy.org/doc/scipy-0.15.1/reference/generated/scipy.stats.chi2_contingency.html<br>\n",
    "https://www.youtube.com/watch?v=E8OQAdQlljE<br>\n",
    "https://github.com/alfredessa/pdacookbook/blob/master/PythonPandasCookbook5.2.ipynb<br>\n",
    "https://stanford.edu/~mwaskom/software/seaborn/generated/seaborn.boxplot.html<br>\n",
    "http://docs.scipy.org/doc/scipy/reference/generated/scipy.stats.ttest_ind.html#scipy.stats.ttest_ind<br>\n",
    "https://www.youtube.com/watch?v=WXPBoFDqNVk"
   ]
  }
 ],
 "metadata": {
  "anaconda-cloud": {},
  "kernelspec": {
   "display_name": "Python [Root]",
   "language": "python",
   "name": "Python [Root]"
  },
  "language_info": {
   "codemirror_mode": {
    "name": "ipython",
    "version": 2
   },
   "file_extension": ".py",
   "mimetype": "text/x-python",
   "name": "python",
   "nbconvert_exporter": "python",
   "pygments_lexer": "ipython2",
   "version": "2.7.12"
  }
 },
 "nbformat": 4,
 "nbformat_minor": 0
}
